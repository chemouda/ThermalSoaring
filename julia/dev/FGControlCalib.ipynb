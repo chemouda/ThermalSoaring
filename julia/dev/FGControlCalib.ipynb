{
 "metadata": {
  "language": "Julia",
  "name": ""
 },
 "nbformat": 3,
 "nbformat_minor": 0,
 "worksheets": [
  {
   "cells": [
    {
     "cell_type": "code",
     "collapsed": false,
     "input": [
      "using JSON\n",
      "using Winston"
     ],
     "language": "python",
     "metadata": {},
     "outputs": [],
     "prompt_number": 1
    },
    {
     "cell_type": "code",
     "collapsed": false,
     "input": [
      "client = connect(ip\"127.0.0.1\",5510)\n",
      "println(\"Connected\")\n"
     ],
     "language": "python",
     "metadata": {},
     "outputs": [
      {
       "output_type": "stream",
       "stream": "stdout",
       "text": [
        "Connected\n"
       ]
      }
     ],
     "prompt_number": 7
    },
    {
     "cell_type": "code",
     "collapsed": false,
     "input": [
      "function lla2flatearth!(msg)\n",
      "    Tlat = 37.61633\n",
      "    Tlon = -122.38334\n",
      "    Re = 6378137\n",
      "    y = Re*(msg[\"LAT\"]*180.0/pi - Tlat)*pi/180.0\n",
      "    x = Re*(msg[\"LON\"]*180.0/pi - Tlon)*pi/180.0\n",
      "    return x, y\n",
      "end"
     ],
     "language": "python",
     "metadata": {},
     "outputs": [
      {
       "metadata": {},
       "output_type": "pyout",
       "prompt_number": 3,
       "text": [
        "lla2flatearth! (generic function with 1 method)"
       ]
      }
     ],
     "prompt_number": 3
    },
    {
     "cell_type": "code",
     "collapsed": false,
     "input": [
      "channel = \"REQUEST_DATA\"\n",
      "my_dict = [\"CHANNEL\"=> channel]\n",
      "reqPosMsg = json(my_dict)\n",
      "print(client,reqPosMsg)\n",
      "msgdata = readline(client)\n",
      "msg = JSON.parse(msgdata)\n",
      "x, y = lla2flatearth!(msg)\n",
      "println(\"X: \", x, \" |  Y: \" ,y)\n",
      "println(msg[\"HEADING\"]*180.0/pi)\n",
      "msg"
     ],
     "language": "python",
     "metadata": {},
     "outputs": [
      {
       "output_type": "stream",
       "stream": "stdout",
       "text": [
        "X: 1729"
       ]
      },
      {
       "output_type": "stream",
       "stream": "stdout",
       "text": [
        ".5466349822132 |  Y: -1814.1552645733886\n",
        "155.96384531962946\n"
       ]
      },
      {
       "metadata": {},
       "output_type": "pyout",
       "prompt_number": 13,
       "text": [
        "Dict{String,Any} with 14 entries:\n",
        "  \"THETA\"     => 0.024502521380782127\n",
        "  \"CHANNEL\"   => \"GLIDER_STATE\"\n",
        "  \"CUR_INDEX\" => 0\n",
        "  \"V_EAST\"    => 10.240508651733398\n",
        "  \"HEADING\"   => 2.7220826148986816\n",
        "  \"LON\"       => -2.1357210645906615\n",
        "  \"PHI\"       => -1.9179429955329397e-7\n",
        "  \"ALT\"       => 816.4435091577981\n",
        "  \"V_NORTH\"   => -22.961617053222657\n",
        "  \"VCAS\"      => 14.204144622802735\n",
        "  \"LAT\"       => 0.6562443776054303\n",
        "  \"V_DOWN\"    => 0.993510287475586\n",
        "  \"BETA\"      => 0.0\n",
        "  \"ALPHA\"     => 0.049537718296051025"
       ]
      }
     ],
     "prompt_number": 13
    },
    {
     "cell_type": "code",
     "collapsed": false,
     "input": [
      "\n",
      "t = linspace(0.0, 1000.,3)\n",
      "x = zeros(2,3)\n",
      "u = [0.0*pi/180.0, 0.0*pi/180.0, 0.0*pi/180.0]\n",
      "x[1,:] = [0.0,0.0,00.0]\n",
      "x[2,:] = [00.0,1000.0,10000.0]\n",
      "\n",
      "tape = [\"CHANNEL\"=> \"NEW_TAPE\", \"t\"=> t, \"u\"=>u[:,1], \"x\"=>x[1,:], \"y\"=>x[2,:]]\n",
      "tapeMsg = json(tape)\n",
      "print(client,tapeMsg)"
     ],
     "language": "python",
     "metadata": {},
     "outputs": [],
     "prompt_number": 15
    },
    {
     "cell_type": "code",
     "collapsed": false,
     "input": [
      "# generate 8 points on circle\n",
      "inc = 50\n",
      "rho = 180\n",
      "v = 25.9\n",
      "t = linspace(0.0, 2pi*rho/v,inc)\n",
      "th = linspace(0,2pi,inc)\n",
      "\n",
      "x = zeros(2,inc)\n",
      "u = zeros(inc)\n",
      "for n in 1:length(th)\n",
      "    x[1,n] = rho*cos(th[n])\n",
      "    x[2,n] = rho*sin(th[n])-50\n",
      "    u[n] = -0.4\n",
      "end\n",
      "tape = [\"CHANNEL\"=> \"NEW_TAPE\", \"t\"=> t, \"u\"=>u[:,1], \"x\"=>x[1,:], \"y\"=>x[2,:]]\n",
      "tapeMsg = json(tape)\n",
      "print(client,tapeMsg)"
     ],
     "language": "python",
     "metadata": {},
     "outputs": [],
     "prompt_number": 8
    },
    {
     "cell_type": "code",
     "collapsed": false,
     "input": [
      "plot(x[1,:],x[2,:])"
     ],
     "language": "python",
     "metadata": {},
     "outputs": [
      {
       "ename": "LoadError",
       "evalue": "`getindex` has no method matching getindex(::Float64, ::Int64, ::UnitRange{Int64})\nwhile loading In[5], in expression starting on line 1",
       "output_type": "pyerr",
       "traceback": [
        "`getindex` has no method matching getindex(::Float64, ::Int64, ::UnitRange{Int64})\nwhile loading In[5], in expression starting on line 1",
        ""
       ]
      }
     ],
     "prompt_number": 5
    },
    {
     "cell_type": "code",
     "collapsed": false,
     "input": [
      "close(client)"
     ],
     "language": "python",
     "metadata": {},
     "outputs": [],
     "prompt_number": 14
    },
    {
     "cell_type": "code",
     "collapsed": false,
     "input": [
      "t = linspace(0,0.5,2)\n",
      "x = zeros(2)\n",
      "y = zeros(2)\n",
      "u = zeros(2)\n",
      "u[2] = -2.0*pi/180.0\n",
      "tape = [\"CHANNEL\"=> \"NEW_TAPE\", \"t\"=> t, \"u\"=>u, \"x\"=>x, \"y\"=>y]\n",
      "tapeMsg = json(tape)\n",
      "print(client,tapeMsg)"
     ],
     "language": "python",
     "metadata": {},
     "outputs": []
    }
   ],
   "metadata": {}
  }
 ]
}