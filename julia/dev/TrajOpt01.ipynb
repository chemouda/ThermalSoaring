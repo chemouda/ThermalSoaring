{
 "metadata": {
  "language": "Julia",
  "name": ""
 },
 "nbformat": 3,
 "nbformat_minor": 0,
 "worksheets": [
  {
   "cells": [
    {
     "cell_type": "code",
     "collapsed": false,
     "input": [
      "using JuMP\n",
      "using NLopt\n",
      "using Winston"
     ],
     "language": "python",
     "metadata": {},
     "outputs": [],
     "prompt_number": 1
    },
    {
     "cell_type": "code",
     "collapsed": false,
     "input": [
      "m = Model(solver=NLoptSolver(algorithm=:LD_SLSQP))\n",
      "\n",
      "nodes = 40\n",
      "\n",
      "# state variables for for direct transcription\n",
      "@defVar(m, l_x[1:3,1:nodes])\n",
      "# input decision variables -- u[1] is actually u[0] \n",
      "@defVar(m, b_u[1:nodes])\n",
      "\n",
      "b_dx = 80.0/3.6\n",
      "b_dy = 0\n",
      "dt = 0.5;\n",
      "println(\"Constant forward body speed of [\", b_dx, \", \", b_dy,\"] [m/s]\")\n",
      "\n",
      "# Initial conditions\n",
      "l_x0 = 30.\n",
      "l_y0 = -60.\n",
      "l_th0 = 3.14159265358979323\n",
      "\n",
      "umax = 0.7;\n",
      "\n",
      "# Set the objective function\n",
      "@setNLObjective(m, Min, sum{l_x[1,i]^2 + l_x[2,i]^2 + 10.0*(b_u[i])^2, i = 1:nodes} - (b_u[nodes])^2)\n",
      "\n",
      "for n in 1:nodes\n",
      "    #initialize variables\n",
      "    setValue(l_x[1,n],0.)\n",
      "    setValue(l_x[2,n],0.)\n",
      "    setValue(l_x[3,n],0.)\n",
      "    setValue(b_u[n],0.)\n",
      "end\n",
      "\n",
      "# initial condition constraints on dynamics\n",
      "@addNLConstraint(m, b_u[1] <= umax)\n",
      "@addNLConstraint(m, -b_u[1] <= umax)\n",
      "@addNLConstraint(m, l_x[1,1] == l_x0 + dt*(cos(l_th0)*b_dx))\n",
      "@addNLConstraint(m, l_x[2,1] == l_y0 + dt*(sin(l_th0)*b_dx))\n",
      "@addNLConstraint(m, l_x[3,1] == l_th0 + dt*b_u[1])\n",
      "\n",
      "for n in 1:(nodes-1)\n",
      "    # dynamics constraints\n",
      "    @addNLConstraint(m, l_x[1,n+1] == l_x[1,n] + dt*(cos(l_x[3,n])*b_dx))\n",
      "    @addNLConstraint(m, l_x[2,n+1] == l_x[2,n] + dt*(sin(l_x[3,n])*b_dx))\n",
      "    @addNLConstraint(m, l_x[3,n+1] == l_x[3,n] + dt*b_u[n+1])\n",
      "    @addNLConstraint(m, b_u[n+1] <= umax)\n",
      "    @addNLConstraint(m, -b_u[n+1] <= umax)\n",
      "    \n",
      "end\n",
      "\n",
      "toc = @elapsed status = solve(m)\n",
      "\n",
      "# get optimal values in general numeric array\n",
      "x = zeros(3,nodes)\n",
      "u = zeros(nodes)\n",
      "for i in 1:nodes, j in 1:3\n",
      "    x[j,i] = getValue(l_x[j,i])\n",
      "    u[i] = getValue(b_u[i])\n",
      "end\n",
      "\n",
      "println(toc)\n",
      "plot(x[1,:],x[2,:])\n"
     ],
     "language": "python",
     "metadata": {},
     "outputs": [
      {
       "ename": "LoadError",
       "evalue": "Model not defined\nwhile loading In[1], in expression starting on line 1",
       "output_type": "pyerr",
       "traceback": [
        "Model not defined\nwhile loading In[1], in expression starting on line 1",
        ""
       ]
      }
     ],
     "prompt_number": 1
    },
    {
     "cell_type": "code",
     "collapsed": false,
     "input": [
      "\n",
      "plot(u)"
     ],
     "language": "python",
     "metadata": {},
     "outputs": [
      {
       "metadata": {},
       "output_type": "pyout",
       "png": "[encoded data removed]",
       "prompt_number": 4,
       "text": [
        "FramedPlot(...)"
       ]
      }
     ],
     "prompt_number": 4
    },
    {
     "cell_type": "code",
     "collapsed": false,
     "input": [
      "println(toc)\n",
      "println(\"got \", getObjectiveValue(m), \" at \", [getValue(l_x[1,1]), getValue(l_x[2,1]), getValue(b_u[1])])"
     ],
     "language": "python",
     "metadata": {},
     "outputs": [
      {
       "output_type": "stream",
       "stream": "stdout",
       "text": [
        "3."
       ]
      },
      {
       "output_type": "stream",
       "stream": "stdout",
       "text": [
        "814518798\n",
        "got 2.0667222697890685e6 at "
       ]
      },
      {
       "output_type": "stream",
       "stream": "stdout",
       "text": [
        "[200.0,211.11111111111111,-0.6999997372936334]\n"
       ]
      }
     ],
     "prompt_number": 28
    },
    {
     "cell_type": "code",
     "collapsed": false,
     "input": [],
     "language": "python",
     "metadata": {},
     "outputs": []
    }
   ],
   "metadata": {}
  }
 ]
}