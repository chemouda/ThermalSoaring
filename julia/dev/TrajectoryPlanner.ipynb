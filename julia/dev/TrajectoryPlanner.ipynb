{
 "metadata": {
  "language": "Julia",
  "name": ""
 },
 "nbformat": 3,
 "nbformat_minor": 0,
 "worksheets": [
  {
   "cells": [
    {
     "cell_type": "code",
     "collapsed": false,
     "input": [
      "\n",
      "using JSON\n",
      "using JuMP\n",
      "using NLopt\n",
      "using Winston\n",
      "using ThermalTraj\n"
     ],
     "language": "python",
     "metadata": {},
     "outputs": [],
     "prompt_number": 1
    },
    {
     "cell_type": "code",
     "collapsed": false,
     "input": [
      "\n",
      "# Preamble on global variables\n",
      "ENBLNET = true\n",
      "\n",
      "#create connection to Python Autopilot\n",
      "if ENBLNET\n",
      "    client = connect(ip\"127.0.0.1\",5510)\n",
      "    println(\"Connected\")\n",
      "end\n",
      "\n",
      "# and immediately request the current position from Python\n",
      "# Commands to send to Python Autopilot\n",
      "channel = \"REQUEST_DATA\"\n",
      "\n",
      "my_dict = [\"CHANNEL\"=> channel]\n",
      "reqPosMsg = json(my_dict)\n",
      "\n",
      "# placeholder for trajectory tape\n",
      "nodes = 40\n",
      "x = zeros(5,nodes);\n",
      "u = zeros(nodes);\n",
      "\n",
      "Re = 6378137\n",
      "\n",
      "# Thermal at KSO tower\n",
      "#<latitude>37.61633</latitude>\n",
      "#<longitude>-122.38334</longitude>\n",
      "#<strength-fps>13.49</strength-fps>\n",
      "#<diameter-ft>4800.0</diameter-ft>\n",
      "Tlat = 37.61633\n",
      "Tlon = -122.38334\n",
      "\n",
      "dt = 0.5;\n",
      "t = linspace(0,dt*nodes,nodes);"
     ],
     "language": "python",
     "metadata": {},
     "outputs": [
      {
       "output_type": "stream",
       "stream": "stdout",
       "text": [
        "Connected\n"
       ]
      }
     ],
     "prompt_number": 12
    },
    {
     "cell_type": "code",
     "collapsed": false,
     "input": [
      "\n",
      "# run behaviors\n",
      "tapeMsg = \"\"\n",
      "\n",
      "if ENBLNET\n",
      "    #request state from python\n",
      "    println(\"Requesting data from Python controller\")\n",
      "    print(client,reqPosMsg)\n",
      "    #block on reply from python\n",
      "    msgdata = readline(client)\n",
      "else\n",
      "    msgdata = \"{\\\"LAT\\\":37.6173,\\\"LON\\\":-122.384,\\\"HEADING\\\":60.0,\\\"CHANNEL\\\":\\\"GLIDER_STATE\\\"}\"\n",
      "end\n",
      "msg = JSON.parse(msgdata)\n",
      "dlat = (msg[\"LAT\"]*180.0/pi - Tlat)*pi/180.0\n",
      "dlon = (msg[\"LON\"]*180.0/pi - Tlon)*pi/180.0\n",
      "\n",
      "x0 = zeros(5)\n",
      "println(\"Heading received \", msg[\"HEADING\"])\n",
      "x0[3] = heading2XY(msg[\"HEADING\"]*180.0/pi)\n",
      "x0[1] = Re*dlon\n",
      "x0[2] = Re*dlat"
     ],
     "language": "python",
     "metadata": {},
     "outputs": [
      {
       "output_type": "stream",
       "stream": "stdout",
       "text": [
        "Requesting data from Python controller\n"
       ]
      },
      {
       "output_type": "stream",
       "stream": "stdout",
       "text": [
        "Heading received 2.4371731281280518\n"
       ]
      },
      {
       "metadata": {},
       "output_type": "pyout",
       "prompt_number": 13,
       "text": [
        "347.83605592059945"
       ]
      }
     ],
     "prompt_number": 13
    },
    {
     "cell_type": "code",
     "collapsed": false,
     "input": [
      "println(\"x0: \", x0)\n",
      "\n",
      "#solve new opt problem\n",
      "solveTraj!(x0,u,x)\n",
      "\n",
      "#pack new json tape\n",
      "tape = [\"CHANNEL\"=> \"NEW_TAPE\", \"t\"=> t, \"u\"=>-x[4,:], \"x\"=>x[1,:], \"y\"=>x[2,:]]\n",
      "tapeMsg = json(tape)\n",
      "#send tape\n",
      "if ENBLNET\n",
      "    print(client,tapeMsg)\n",
      "else\n",
      "    #println(tapeMsg)    \n",
      "end\n",
      "\n",
      "pp = floor(4*nodes/5)\n",
      "rpx0 = x[:,pp]\n",
      "println(rpx0)\n",
      "if rpx0[3]<-pi\n",
      "    rpx0[3] += 2pi\n",
      "end\n",
      "if rpx0[3]>pi\n",
      "    rpx0[3] -= 2pi\n",
      "end\n",
      "println(rpx0)\n",
      "x0 = rpx0\n",
      "timegap = pp*dt;\n",
      "println(timegap)\n",
      "plot(x[1,:],x[2,:],\"b--\", x[1,1:2],x[2,1:2],\"g^\",x[1,pp:(pp+1)],x[2,pp:(pp+1)],\"r^\")\n"
     ],
     "language": "python",
     "metadata": {},
     "outputs": [
      {
       "output_type": "stream",
       "stream": "stdout",
       "text": [
        "x0: "
       ]
      },
      {
       "output_type": "stream",
       "stream": "stdout",
       "text": [
        "[-43.3005838378174,-131.78265332548986,-0.9686262251127494,0.7160457207835792,0.747510757545461]\n",
        "Constant forward body speed of [25.9, 0] [m/s]\n",
        "8"
       ]
      },
      {
       "output_type": "stream",
       "stream": "stdout",
       "text": [
        ".804416759\n",
        "[30.854630537801366,44.41013342709192,3.438496817013252,0.4704263444989438,0.6491552474472049]\n",
        "[30.854630537801366,44.41013342709192,-2.8446884901663343,0.4704263444989438,0.6491552474472049]\n",
        "16.0\n"
       ]
      },
      {
       "metadata": {},
       "output_type": "pyout",
       "png": "[encoded data removed]",
       "prompt_number": 23,
       "text": [
        "FramedPlot(...)"
       ]
      }
     ],
     "prompt_number": 23
    },
    {
     "cell_type": "code",
     "collapsed": false,
     "input": [
      "plot(x[5,:])"
     ],
     "language": "python",
     "metadata": {},
     "outputs": [
      {
       "metadata": {},
       "output_type": "pyout",
       "png": "[encoded data removed]",
       "prompt_number": 25,
       "text": [
        "FramedPlot(...)"
       ]
      }
     ],
     "prompt_number": 25
    },
    {
     "cell_type": "code",
     "collapsed": false,
     "input": [
      "t0 = time()"
     ],
     "language": "python",
     "metadata": {},
     "outputs": [
      {
       "metadata": {},
       "output_type": "pyout",
       "prompt_number": 16,
       "text": [
        "1.416796002508714e9"
       ]
      }
     ],
     "prompt_number": 16
    },
    {
     "cell_type": "code",
     "collapsed": false,
     "input": [
      "time() - t0"
     ],
     "language": "python",
     "metadata": {},
     "outputs": [
      {
       "metadata": {},
       "output_type": "pyout",
       "prompt_number": 17,
       "text": [
        "0.33635592460632324"
       ]
      }
     ],
     "prompt_number": 17
    },
    {
     "cell_type": "code",
     "collapsed": false,
     "input": [
      "plot(u)\n"
     ],
     "language": "python",
     "metadata": {},
     "outputs": [
      {
       "metadata": {},
       "output_type": "pyout",
       "png": "[encoded data removed]",
       "prompt_number": 12,
       "text": [
        "FramedPlot(...)"
       ]
      }
     ],
     "prompt_number": 12
    },
    {
     "cell_type": "code",
     "collapsed": false,
     "input": [
      "close(client)"
     ],
     "language": "python",
     "metadata": {},
     "outputs": [],
     "prompt_number": 28
    },
    {
     "cell_type": "code",
     "collapsed": false,
     "input": [
      "print(client,reqPosMsg)\n",
      "msgdata = readline(client)\n",
      "msg = JSON.parse(msgdata)\n",
      "#sqrt(msg[\"V_NORTH\"]^2 + msg[\"V_EAST\"]^2+msg[\"V_DOWN\"]^2)\n"
     ],
     "language": "python",
     "metadata": {},
     "outputs": [
      {
       "metadata": {},
       "output_type": "pyout",
       "prompt_number": 6,
       "text": [
        "Dict{String,Any} with 14 entries:\n",
        "  \"THETA\"     => 0.03474651649594307\n",
        "  \"CHANNEL\"   => \"GLIDER_STATE\"\n",
        "  \"CUR_INDEX\" => 0\n",
        "  \"V_EAST\"    => 3.720635977935791\n",
        "  \"HEADING\"   => 3.0144662857055664\n",
        "  \"LON\"       => -2.1359970329770834\n",
        "  \"PHI\"       => 0.13293160498142242\n",
        "  \"ALT\"       => 1737.2586860195868\n",
        "  \"V_NORTH\"   => -29.78737716064453\n",
        "  \"VCAS\"      => 16.22727578430176\n",
        "  \"LAT\"       => 0.656504700350418\n",
        "  \"V_DOWN\"    => -3.8699303535461427\n",
        "  \"BETA\"      => 0.0\n",
        "  \"ALPHA\"     => 0.029979677870869637"
       ]
      }
     ],
     "prompt_number": 6
    },
    {
     "cell_type": "code",
     "collapsed": false,
     "input": [
      "println(msgdata)"
     ],
     "language": "python",
     "metadata": {},
     "outputs": [
      {
       "output_type": "stream",
       "stream": "stdout",
       "text": [
        "{\"LON\": -2.1360657482262657, \"VCAS\": 14.072186398315431, \"BETA\": 0.0, \"V_DOWN\": 0.35784817914962769, \"THETA\": 0.024337785318493843, \"HEADING\": 2.6521437168121338, \"CHANNEL\": \"GLIDER_STATE\", \"PHI\": -1.4803615044911567e-07, \"V_NORTH\": -23.019897216796878, \"V_EAST\": 12.262245712280274, \"LAT\": 0.65657683073480955, \"ALPHA\": 0.055184818804264069, \"ALT\": 1763.1131056348274}\n",
        "\n"
       ]
      }
     ],
     "prompt_number": 26
    },
    {
     "cell_type": "code",
     "collapsed": false,
     "input": [
      "print(client,reqPosMsg)\n",
      "msgdata = readline(client)\n",
      "msg = JSON.parse(msgdata)\n",
      "dlat = (msg[\"LAT\"]*180.0/pi - Tlat)*pi/180.0\n",
      "dlon = (msg[\"LON\"]*180.0/pi - Tlon)*pi/180.0\n",
      "x0 = zeros(3)\n",
      "x0[1] = Re*dlon\n",
      "x0[2] = Re*dlat\n",
      "\n",
      "println(x0[1],\", \",x0[2])\n"
     ],
     "language": "python",
     "metadata": {},
     "outputs": [
      {
       "output_type": "stream",
       "stream": "stdout",
       "text": [
        "-30"
       ]
      },
      {
       "output_type": "stream",
       "stream": "stdout",
       "text": [
        ".61754128565801, -153.78113282633785\n"
       ]
      }
     ],
     "prompt_number": 7
    },
    {
     "cell_type": "code",
     "collapsed": false,
     "input": [
      "x0[3] = heading2XY(msg[\"HEADING\"]*180.0/pi) #-(msg[\"heading\"]-90.0)*pi/180.0\n",
      "println(msg[\"HEADING\"]*180.0/pi)\n",
      "println(x0[3]*180.0/pi)"
     ],
     "language": "python",
     "metadata": {},
     "outputs": []
    },
    {
     "cell_type": "code",
     "collapsed": false,
     "input": [
      "# test function from ThermalTraj\n",
      "println(heading2XY(0.0))\n",
      "println(heading2XY(45.0))\n",
      "println(heading2XY(90.0))\n",
      "println(heading2XY(180.0))\n",
      "println(heading2XY(270.0))\n",
      "println(heading2XY(271.0))\n",
      "println(heading2XY(359.0))\n",
      "\n"
     ],
     "language": "python",
     "metadata": {},
     "outputs": [
      {
       "output_type": "stream",
       "stream": "stdout",
       "text": [
        "1."
       ]
      },
      {
       "output_type": "stream",
       "stream": "stdout",
       "text": [
        "5707963267948966\n",
        "0.7853981633974483\n",
        "-0.0\n",
        "-1.5707963267948966\n",
        "3.141592653589793\n",
        "3.12413936106985\n",
        "1.5882496193148399\n"
       ]
      }
     ],
     "prompt_number": 37
    },
    {
     "cell_type": "code",
     "collapsed": false,
     "input": [
      "# Trying out some initial conditions\n",
      "Re*(-122.384 - Tlon)*pi/180.0\n",
      "\n",
      "# Initial conditions\n",
      "x0 = [60., \n",
      "      60., \n",
      "      2./2.*3.14159265358979323]\n",
      "\n",
      "\n",
      "solveTraj!(x0,u,x)\n",
      "plot(x[1,:],x[2,:])"
     ],
     "language": "python",
     "metadata": {},
     "outputs": []
    }
   ],
   "metadata": {}
  }
 ]
}