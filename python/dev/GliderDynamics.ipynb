{
 "metadata": {
  "name": ""
 },
 "nbformat": 3,
 "nbformat_minor": 0,
 "worksheets": [
  {
   "cells": [
    {
     "cell_type": "code",
     "collapsed": false,
     "input": [
      "import sympy as sm\n",
      "# make the math look pretty\n",
      "sm.init_printing()\n"
     ],
     "language": "python",
     "metadata": {},
     "outputs": [],
     "prompt_number": 1
    },
    {
     "cell_type": "code",
     "collapsed": false,
     "input": [
      "# define all the symbols we will be using\n",
      "#env parameters\n",
      "g = sm.Symbol(\"g\")\n",
      "rho = sm.Symbol(\"rho\")\n",
      "\n",
      "#wind parameters\n",
      "#thermals modelled with vertical airflows only\n",
      "\n",
      "# vehicle parameters\n",
      "e = sm.Symbol(\"e\")\n",
      "alph0 = sm.Symbol(\"alpha_0\")\n",
      "AR = sm.Symbol(\"AR\")\n",
      "m = sm.Symbol(\"m\")\n",
      "l = sm.Symbol(\"l\")\n",
      "Vh = sm.Symbol(\"V_H\")\n",
      "Vv = sm.Symbol(\"V_V\")\n",
      "Rf = sm.Symbol(\"V_F\")\n",
      "CLmin = sm.Symbol(\"C_{L_{min}}\")\n",
      "Cd0 = sm.Symbol(\"C_{D_0}\")\n",
      "Cdf = sm.Symbol(\"C_{D_f}\")\n",
      "CdL = sm.Symbol(\"C_{d_L}\")\n",
      "Cde = sm.Symbol(\"C_{d_e}\")\n",
      "Cdt = sm.Symbol(\"C_{d_t}\")\n",
      "a0 = sm.Symbol(\"a_0\")\n",
      "\n",
      "\n",
      "#variables\n",
      "alpha = sm.Symbol(\"alpha\")\n",
      "alphaw = sm.Symbol(\"alpha_w\")\n",
      "beta = sm.Symbol(\"beta\")\n",
      "betaw = sm.Symbol(\"beta_w\")\n",
      "x = sm.Symbol(\"x\")\n",
      "y = sm.Symbol(\"y\")\n",
      "h = sm.Symbol(\"h\")\n",
      "chi = sm.Symbol(\"chi\")\n",
      "gamma = sm.Symbol(\"gamma\")\n",
      "sigma = sm.Symbol(\"sigma\")\n",
      "chiw = sm.Symbol(\"chi_w\")\n",
      "gammaw = sm.Symbol(\"gamma_w\")\n",
      "sigmaw = sm.Symbol(\"sigma_w\")\n",
      "V = sm.Symbol(\"V\")\n",
      "Vw = sm.Symbol(\"V_w\")\n",
      "D = sm.Symbol(\"D\")\n",
      "L = sm.Symbol(\"L\")\n",
      "C = sm.Symbol(\"C\")\n"
     ],
     "language": "python",
     "metadata": {},
     "outputs": [],
     "prompt_number": 33
    },
    {
     "cell_type": "code",
     "collapsed": false,
     "input": [
      "# relations\n",
      "q = 1./2.*rho*(V**2)\n",
      "qw = 1./2.*rho*(Vw**2)\n",
      "S = (l**2)/AR\n",
      "cbar = 1.03*l/AR\n",
      "lt = 0.28*l\n",
      "lf = 0.5*l\n",
      "S = l**2/AR\n",
      "St = Vh*cbar*S/lt\n",
      "Sv = Vv*l*S/lt\n",
      "Sf = 2.0*sm.pi*Rf*l*lf\n",
      "ARv = 0.5*AR\n",
      "\n",
      "Rvi = sm.Matrix([[sm.cos(chi),-sm.sin(chi),0.],[sm.sin(chi),sm.cos(chi),0.],[0.,0.,1.]])*sm.Matrix([[sm.cos(gamma),0.,sm.sin(gamma)],[0.,1.,0.],[-sm.sin(gamma),0.,sm.cos(gamma)]])*sm.Matrix([[1.,0.,0.],[0.,sm.cos(sigma),-sm.sin(sigma)],[0.,sm.sin(sigma),sm.cos(sigma)]])\n",
      "Rbv = sm.Matrix([[sm.cos(alpha),0.,sm.sin(alpha)],[0.,1.,0.],[-sm.sin(alpha),0.,sm.cos(alpha)]])*sm.Matrix([[sm.cos(beta),sm.sin(beta),0.],[-sm.sin(beta),sm.cos(beta),0.],[0.,0.,1.]])\n",
      "\n",
      "Tiv = Rvi\n",
      "\n",
      "Rwi = Rvi.subs(chi,chiw).subs(gamma,gammaw).subs(sigma,sigmaw)\n",
      "Rbw = Rbv.subs(alpha,alphaw).subs(beta,betaw)\n",
      "\n",
      "#aerodynamics\n",
      "#lift\n",
      "CLa = a0 / (1.0+a0/(sm.pi*e*AR))\n",
      "\n",
      "#drag\n",
      "CD0 = Cdf*Sf/S + Cdt*(St + Sv)/S + Cde + Cd0\n",
      "Rwi"
     ],
     "language": "python",
     "metadata": {},
     "outputs": [
      {
       "latex": [
        "$$\\left[\\begin{matrix}1.0 \\cos{\\left (\\chi_{w} \\right )} \\cos{\\left (\\gamma_{w} \\right )} & - 1.0 \\sin{\\left (\\chi_{w} \\right )} \\cos{\\left (\\sigma_{w} \\right )} + \\sin{\\left (\\gamma_{w} \\right )} \\sin{\\left (\\sigma_{w} \\right )} \\cos{\\left (\\chi_{w} \\right )} & 1.0 \\sin{\\left (\\chi_{w} \\right )} \\sin{\\left (\\sigma_{w} \\right )} + \\sin{\\left (\\gamma_{w} \\right )} \\cos{\\left (\\chi_{w} \\right )} \\cos{\\left (\\sigma_{w} \\right )}\\\\1.0 \\sin{\\left (\\chi_{w} \\right )} \\cos{\\left (\\gamma_{w} \\right )} & \\sin{\\left (\\chi_{w} \\right )} \\sin{\\left (\\gamma_{w} \\right )} \\sin{\\left (\\sigma_{w} \\right )} + 1.0 \\cos{\\left (\\chi_{w} \\right )} \\cos{\\left (\\sigma_{w} \\right )} & \\sin{\\left (\\chi_{w} \\right )} \\sin{\\left (\\gamma_{w} \\right )} \\cos{\\left (\\sigma_{w} \\right )} - 1.0 \\sin{\\left (\\sigma_{w} \\right )} \\cos{\\left (\\chi_{w} \\right )}\\\\- 1.0 \\sin{\\left (\\gamma_{w} \\right )} & 1.0 \\sin{\\left (\\sigma_{w} \\right )} \\cos{\\left (\\gamma_{w} \\right )} & 1.0 \\cos{\\left (\\gamma_{w} \\right )} \\cos{\\left (\\sigma_{w} \\right )}\\end{matrix}\\right]$$"
       ],
       "metadata": {},
       "output_type": "pyout",
       "png": "[encoded data removed]",
       "prompt_number": 39,
       "text": [
        "\u23a11.0\u22c5cos(\u03c7_w)\u22c5cos(\u03b3_w)  -1.0\u22c5sin(\u03c7_w)\u22c5cos(\u03c3_w) + sin(\u03b3_w)\u22c5sin(\u03c3_w)\u22c5cos(\u03c7_w)  1\n",
        "\u23a2                                                                             \n",
        "\u23a21.0\u22c5sin(\u03c7_w)\u22c5cos(\u03b3_w)  sin(\u03c7_w)\u22c5sin(\u03b3_w)\u22c5sin(\u03c3_w) + 1.0\u22c5cos(\u03c7_w)\u22c5cos(\u03c3_w)   s\n",
        "\u23a2                                                                             \n",
        "\u23a3    -1.0\u22c5sin(\u03b3_w)                     1.0\u22c5sin(\u03c3_w)\u22c5cos(\u03b3_w)                  \n",
        "\n",
        ".0\u22c5sin(\u03c7_w)\u22c5sin(\u03c3_w) + sin(\u03b3_w)\u22c5cos(\u03c7_w)\u22c5cos(\u03c3_w)\u23a4\n",
        "                                                 \u23a5\n",
        "in(\u03c7_w)\u22c5sin(\u03b3_w)\u22c5cos(\u03c3_w) - 1.0\u22c5sin(\u03c3_w)\u22c5cos(\u03c7_w)\u23a5\n",
        "                                                 \u23a5\n",
        "             1.0\u22c5cos(\u03b3_w)\u22c5cos(\u03c3_w)               \u23a6"
       ]
      }
     ],
     "prompt_number": 39
    },
    {
     "cell_type": "code",
     "collapsed": false,
     "input": [
      "# forces\n",
      "#lift\n",
      "CL = CLa*(alphaw - alph0)\n",
      "Lw = qw*S*CL\n",
      "\n",
      "#side\n",
      "CC = CLa*Sv/S*betaw\n",
      "Cw = qw*S*CC\n",
      "\n",
      "#drag\n",
      "CD = CD0 + CdL*((CL - CLmin)**2) + (CL**2)/(sm.pi*e*AR) + (Cw**2)/(sm.pi*e*AR)*(S/Sv)\n",
      "Dw = qw*S*CD"
     ],
     "language": "python",
     "metadata": {},
     "outputs": [],
     "prompt_number": 28
    },
    {
     "cell_type": "code",
     "collapsed": false,
     "input": [
      "# Dynamics\n",
      "z = -h\n",
      "dh = V*sm.sin(gamma)\n",
      "dz = -dh\n",
      "dx = V*sm.cos(chi)*sm.cos(gamma)\n",
      "dy = V*sm.sin(chi)*sm.cos(gamma)\n",
      "dV = -D/m-g*sm.sin(gamma)\n",
      "dgamma = 1.0/(m*V)*(L*sm.cos(sigma) + C*sm.sin(sigma))-g/V*sm.cos(gamma)\n",
      "dchi = 1.0/(m*V*sm.cos(gamma))*(L*sm.sin(sigma) - C*sm.cos(sigma))\n",
      "f = sm.Matrix([[dh],[dx],[dy],[dV],[dgamma],[dchi]])\n",
      "\n",
      "\n",
      "Vvec = sm.Matrix([[dx],[dy],[dz]])\n",
      "\n",
      "f"
     ],
     "language": "python",
     "metadata": {},
     "outputs": [
      {
       "latex": [
        "$$\\left[\\begin{matrix}V \\sin{\\left (\\gamma \\right )}\\\\V \\cos{\\left (\\chi \\right )} \\cos{\\left (\\gamma \\right )}\\\\V \\sin{\\left (\\chi \\right )} \\cos{\\left (\\gamma \\right )}\\\\- \\frac{D}{m} - g \\sin{\\left (\\gamma \\right )}\\\\- \\frac{g}{V} \\cos{\\left (\\gamma \\right )} + \\frac{1}{V m} \\left(1.0 C \\sin{\\left (\\sigma \\right )} + 1.0 L \\cos{\\left (\\sigma \\right )}\\right)\\\\\\frac{1}{V m \\cos{\\left (\\gamma \\right )}} \\left(- 1.0 C \\cos{\\left (\\sigma \\right )} + 1.0 L \\sin{\\left (\\sigma \\right )}\\right)\\end{matrix}\\right]$$"
       ],
       "metadata": {},
       "output_type": "pyout",
       "png": "[encoded data removed]",
       "prompt_number": 24,
       "text": [
        "\u23a1               V\u22c5sin(\u03b3)               \u23a4\n",
        "\u23a2                                      \u23a5\n",
        "\u23a2           V\u22c5cos(\u03c7)\u22c5cos(\u03b3)            \u23a5\n",
        "\u23a2                                      \u23a5\n",
        "\u23a2           V\u22c5sin(\u03c7)\u22c5cos(\u03b3)            \u23a5\n",
        "\u23a2                                      \u23a5\n",
        "\u23a2              D                       \u23a5\n",
        "\u23a2            - \u2500 - g\u22c5sin(\u03b3)            \u23a5\n",
        "\u23a2              m                       \u23a5\n",
        "\u23a2                                      \u23a5\n",
        "\u23a2  g\u22c5cos(\u03b3)   1.0\u22c5(C\u22c5sin(\u03c3) + L\u22c5cos(\u03c3))\u23a5\n",
        "\u23a2- \u2500\u2500\u2500\u2500\u2500\u2500\u2500\u2500 + \u2500\u2500\u2500\u2500\u2500\u2500\u2500\u2500\u2500\u2500\u2500\u2500\u2500\u2500\u2500\u2500\u2500\u2500\u2500\u2500\u2500\u2500\u2500\u2500\u2500\u23a5\n",
        "\u23a2     V                  V\u22c5m           \u23a5\n",
        "\u23a2                                      \u23a5\n",
        "\u23a2      1.0\u22c5(-C\u22c5cos(\u03c3) + L\u22c5sin(\u03c3))      \u23a5\n",
        "\u23a2      \u2500\u2500\u2500\u2500\u2500\u2500\u2500\u2500\u2500\u2500\u2500\u2500\u2500\u2500\u2500\u2500\u2500\u2500\u2500\u2500\u2500\u2500\u2500\u2500\u2500\u2500      \u23a5\n",
        "\u23a3              V\u22c5m\u22c5cos(\u03b3)              \u23a6"
       ]
      }
     ],
     "prompt_number": 24
    },
    {
     "cell_type": "code",
     "collapsed": false,
     "input": [
      "sm.Matrix([f.diff(chi).transpose(), f.diff(gamma).transpose()]).transpose()"
     ],
     "language": "python",
     "metadata": {},
     "outputs": [
      {
       "latex": [
        "$$\\left[\\begin{matrix}0 & V \\cos{\\left (\\gamma \\right )}\\\\- V \\sin{\\left (\\chi \\right )} \\cos{\\left (\\gamma \\right )} & - V \\sin{\\left (\\gamma \\right )} \\cos{\\left (\\chi \\right )}\\\\V \\cos{\\left (\\chi \\right )} \\cos{\\left (\\gamma \\right )} & - V \\sin{\\left (\\chi \\right )} \\sin{\\left (\\gamma \\right )}\\\\0 & - g \\cos{\\left (\\gamma \\right )}\\\\0 & \\frac{g}{V} \\sin{\\left (\\gamma \\right )}\\\\0 & \\frac{\\sin{\\left (\\gamma \\right )}}{V m \\cos^{2}{\\left (\\gamma \\right )}} \\left(- C \\cos{\\left (\\sigma \\right )} + L \\sin{\\left (\\sigma \\right )}\\right)\\end{matrix}\\right]$$"
       ],
       "metadata": {},
       "output_type": "pyout",
       "png": "[encoded data removed]",
       "prompt_number": 85,
       "text": [
        "\u23a1       0                    V\u22c5cos(\u03b3)           \u23a4\n",
        "\u23a2                                               \u23a5\n",
        "\u23a2-V\u22c5sin(\u03c7)\u22c5cos(\u03b3)        -V\u22c5sin(\u03b3)\u22c5cos(\u03c7)       \u23a5\n",
        "\u23a2                                               \u23a5\n",
        "\u23a2V\u22c5cos(\u03c7)\u22c5cos(\u03b3)         -V\u22c5sin(\u03c7)\u22c5sin(\u03b3)       \u23a5\n",
        "\u23a2                                               \u23a5\n",
        "\u23a2       0                    -g\u22c5cos(\u03b3)          \u23a5\n",
        "\u23a2                                               \u23a5\n",
        "\u23a2                            g\u22c5sin(\u03b3)           \u23a5\n",
        "\u23a2       0                    \u2500\u2500\u2500\u2500\u2500\u2500\u2500\u2500           \u23a5\n",
        "\u23a2                               V               \u23a5\n",
        "\u23a2                                               \u23a5\n",
        "\u23a2                  (-C\u22c5cos(\u03c3) + L\u22c5sin(\u03c3))\u22c5sin(\u03b3)\u23a5\n",
        "\u23a2       0          \u2500\u2500\u2500\u2500\u2500\u2500\u2500\u2500\u2500\u2500\u2500\u2500\u2500\u2500\u2500\u2500\u2500\u2500\u2500\u2500\u2500\u2500\u2500\u2500\u2500\u2500\u2500\u2500\u2500\u23a5\n",
        "\u23a2                                  2            \u23a5\n",
        "\u23a3                           V\u22c5m\u22c5cos (\u03b3)         \u23a6"
       ]
      }
     ],
     "prompt_number": 85
    },
    {
     "cell_type": "code",
     "collapsed": false,
     "input": [],
     "language": "python",
     "metadata": {},
     "outputs": []
    }
   ],
   "metadata": {}
  }
 ]
}